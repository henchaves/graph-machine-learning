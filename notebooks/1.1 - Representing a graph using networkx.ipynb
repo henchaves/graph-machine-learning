{
 "cells": [
  {
   "cell_type": "code",
   "execution_count": 1,
   "metadata": {},
   "outputs": [],
   "source": [
    "import networkx as nx"
   ]
  },
  {
   "cell_type": "code",
   "execution_count": 4,
   "metadata": {},
   "outputs": [],
   "source": [
    "G = nx.Graph()\n",
    "\n",
    "V = {\"Dublin\", \"Paris\", \"Milan\", \"Rome\"}\n",
    "E = [(\"Milan\", \"Dublin\"), (\"Milan\", \"Paris\"), (\"Paris\", \"Dublin\"), (\"Milan\", \"Rome\")]\n",
    "\n",
    "G.add_nodes_from(V)\n",
    "G.add_edges_from(E)"
   ]
  },
  {
   "cell_type": "code",
   "execution_count": 6,
   "metadata": {},
   "outputs": [
    {
     "name": "stdout",
     "output_type": "stream",
     "text": [
      "V = ['Dublin', 'Paris', 'Milan', 'Rome']\n"
     ]
    }
   ],
   "source": [
    "print(f\"V = {G.nodes}\")"
   ]
  },
  {
   "cell_type": "code",
   "execution_count": 7,
   "metadata": {},
   "outputs": [
    {
     "name": "stdout",
     "output_type": "stream",
     "text": [
      "E = [('Dublin', 'Milan'), ('Dublin', 'Paris'), ('Paris', 'Milan'), ('Milan', 'Rome')]\n"
     ]
    }
   ],
   "source": [
    "print(f\"E = {G.edges}\")"
   ]
  },
  {
   "cell_type": "code",
   "execution_count": 9,
   "metadata": {},
   "outputs": [
    {
     "name": "stdout",
     "output_type": "stream",
     "text": [
      "Graph order (# of vertices): 4\n"
     ]
    }
   ],
   "source": [
    "print(f\"Graph order (# of nodes): {G.number_of_nodes()}\")"
   ]
  },
  {
   "cell_type": "code",
   "execution_count": 10,
   "metadata": {},
   "outputs": [
    {
     "name": "stdout",
     "output_type": "stream",
     "text": [
      "Graph size (# of edges): 4\n"
     ]
    }
   ],
   "source": [
    "print(f\"Graph size (# of edges): {G.number_of_edges()}\")"
   ]
  },
  {
   "cell_type": "code",
   "execution_count": 13,
   "metadata": {},
   "outputs": [
    {
     "name": "stdout",
     "output_type": "stream",
     "text": [
      "Degree for nodes: {'Dublin': 2, 'Paris': 2, 'Milan': 3, 'Rome': 1}\n"
     ]
    }
   ],
   "source": [
    "degree_for_nodes = {v: G.degree(v) for v in G.nodes}\n",
    "print(f\"Degree for nodes: {degree_for_nodes}\")"
   ]
  },
  {
   "cell_type": "code",
   "execution_count": 14,
   "metadata": {},
   "outputs": [
    {
     "name": "stdout",
     "output_type": "stream",
     "text": [
      "Neighbors for nodes: {'Dublin': ['Milan', 'Paris'], 'Paris': ['Milan', 'Dublin'], 'Milan': ['Dublin', 'Paris', 'Rome'], 'Rome': ['Milan']}\n"
     ]
    }
   ],
   "source": [
    "neighbors_for_nodes = {v: list(G.neighbors(v)) for v in G.nodes}\n",
    "print(f\"Neighbors for nodes: {neighbors_for_nodes}\")"
   ]
  },
  {
   "cell_type": "code",
   "execution_count": 17,
   "metadata": {},
   "outputs": [
    {
     "name": "stdout",
     "output_type": "stream",
     "text": [
      "Nodes: ['Dublin', 'Paris', 'Milan', 'Rome']\n",
      "Edges: [('Dublin', 'Milan'), ('Dublin', 'Paris'), ('Paris', 'Milan'), ('Milan', 'Rome')]\n"
     ]
    }
   ],
   "source": [
    "#Computer ego graph\n",
    "\n",
    "ego_graph_milan = nx.ego_graph(G, \"Milan\")\n",
    "\n",
    "print(f\"Nodes: {ego_graph_milan.nodes}\")\n",
    "\n",
    "print(f\"Edges: {ego_graph_milan.edges}\")"
   ]
  },
  {
   "cell_type": "code",
   "execution_count": 19,
   "metadata": {},
   "outputs": [],
   "source": [
    "new_nodes = {\"London\", \"Madrid\"}\n",
    "\n",
    "new_edges = [(\"London\", \"Rome\"), (\"Madrid\", \"Paris\")]"
   ]
  },
  {
   "cell_type": "code",
   "execution_count": 20,
   "metadata": {},
   "outputs": [],
   "source": [
    "G.add_nodes_from(new_nodes)\n",
    "\n",
    "G.add_edges_from(new_edges)"
   ]
  },
  {
   "cell_type": "code",
   "execution_count": 21,
   "metadata": {},
   "outputs": [
    {
     "name": "stdout",
     "output_type": "stream",
     "text": [
      "V = ['Dublin', 'Paris', 'Milan', 'Rome', 'London', 'Madrid']\n",
      "E = [('Dublin', 'Milan'), ('Dublin', 'Paris'), ('Paris', 'Milan'), ('Paris', 'Madrid'), ('Milan', 'Rome'), ('Rome', 'London')]\n"
     ]
    }
   ],
   "source": [
    "print(f\"V = {G.nodes}\")\n",
    "\n",
    "print(f\"E = {G.edges}\")"
   ]
  },
  {
   "cell_type": "code",
   "execution_count": 24,
   "metadata": {},
   "outputs": [
    {
     "name": "stdout",
     "output_type": "stream",
     "text": [
      "V = ['Dublin', 'Paris', 'Milan', 'Rome']\n",
      "E = [('Dublin', 'Milan'), ('Dublin', 'Paris'), ('Paris', 'Milan'), ('Milan', 'Rome')]\n"
     ]
    }
   ],
   "source": [
    "# Removing nodes\n",
    "\n",
    "nodes_to_remove = {\"London\", \"Madrid\"}\n",
    "\n",
    "G.remove_nodes_from(nodes_to_remove)\n",
    "\n",
    "print(f\"V = {G.nodes}\")\n",
    "print(f\"E = {G.edges}\")"
   ]
  },
  {
   "cell_type": "code",
   "execution_count": 25,
   "metadata": {},
   "outputs": [
    {
     "name": "stdout",
     "output_type": "stream",
     "text": [
      "V = ['Dublin', 'Paris', 'Milan', 'Rome']\n",
      "E = [('Dublin', 'Paris'), ('Milan', 'Rome')]\n"
     ]
    }
   ],
   "source": [
    "# Removing edges\n",
    "\n",
    "edges_to_remove = [(\"Milan\", \"Dublin\"), (\"Milan\", \"Paris\")]\n",
    "\n",
    "G.remove_edges_from(edges_to_remove)\n",
    "\n",
    "print(f\"V = {G.nodes}\")\n",
    "print(f\"E = {G.edges}\")"
   ]
  },
  {
   "cell_type": "code",
   "execution_count": 32,
   "metadata": {},
   "outputs": [
    {
     "name": "stdout",
     "output_type": "stream",
     "text": [
      "V = ['Paris', 'Milan', 'Rome']\n",
      "E = [('Milan', 'Rome')]\n"
     ]
    }
   ],
   "source": [
    "# Removing single node/edge\n",
    "\n",
    "G.remove_edge(\"Dublin\", \"Paris\")\n",
    "\n",
    "G.remove_node(\"Dublin\")\n",
    "\n",
    "print(f\"V = {G.nodes}\")\n",
    "print(f\"E = {G.edges}\")"
   ]
  },
  {
   "cell_type": "code",
   "execution_count": 43,
   "metadata": {},
   "outputs": [
    {
     "data": {
      "image/png": "[encoded data removed]",
      "text/plain": [
       "<Figure size 432x288 with 1 Axes>"
      ]
     },
     "metadata": {},
     "output_type": "display_data"
    }
   ],
   "source": [
    "# Drawing graphs\n",
    "\n",
    "import matplotlib.pyplot as plt\n",
    "\n",
    "nx.draw(ego_graph_milan, with_labels=True, font_weight=\"bold\", node_size=2000)"
   ]
  },
  {
   "cell_type": "code",
   "execution_count": null,
   "metadata": {},
   "outputs": [],
   "source": []
  }
 ],
 "metadata": {
  "kernelspec": {
   "display_name": "Python 3",
   "language": "python",
   "name": "python3"
  },
  "language_info": {
   "codemirror_mode": {
    "name": "ipython",
    "version": 3
   },
   "file_extension": ".py",
   "mimetype": "text/x-python",
   "name": "python",
   "nbconvert_exporter": "python",
   "pygments_lexer": "ipython3",
   "version": "3.9.6"
  }
 },
 "nbformat": 4,
 "nbformat_minor": 4
}
